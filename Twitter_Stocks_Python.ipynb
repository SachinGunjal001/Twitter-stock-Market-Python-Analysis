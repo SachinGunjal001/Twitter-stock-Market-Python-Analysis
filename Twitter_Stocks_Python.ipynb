{
 "cells": [
  {
   "cell_type": "markdown",
   "id": "c20a5ff2",
   "metadata": {},
   "source": [
    "This is the analysis for twitter stock price analysis for past years."
   ]
  },
  {
   "cell_type": "code",
   "execution_count": 24,
   "id": "11b02811",
   "metadata": {},
   "outputs": [],
   "source": [
    "import pandas as pd\n",
    "import numpy as np\n",
    "import matplotlib.pyplot as plt\n",
    "import seaborn as sns"
   ]
  },
  {
   "cell_type": "code",
   "execution_count": 25,
   "id": "5d86de19",
   "metadata": {},
   "outputs": [
    {
     "data": {
      "text/html": [
       "<div>\n",
       "<style scoped>\n",
       "    .dataframe tbody tr th:only-of-type {\n",
       "        vertical-align: middle;\n",
       "    }\n",
       "\n",
       "    .dataframe tbody tr th {\n",
       "        vertical-align: top;\n",
       "    }\n",
       "\n",
       "    .dataframe thead th {\n",
       "        text-align: right;\n",
       "    }\n",
       "</style>\n",
       "<table border=\"1\" class=\"dataframe\">\n",
       "  <thead>\n",
       "    <tr style=\"text-align: right;\">\n",
       "      <th></th>\n",
       "      <th>Date</th>\n",
       "      <th>Open</th>\n",
       "      <th>High</th>\n",
       "      <th>Low</th>\n",
       "      <th>Close</th>\n",
       "      <th>Adj Close</th>\n",
       "      <th>Volume</th>\n",
       "    </tr>\n",
       "  </thead>\n",
       "  <tbody>\n",
       "    <tr>\n",
       "      <th>0</th>\n",
       "      <td>2018-01-01</td>\n",
       "      <td>45.099998</td>\n",
       "      <td>50.090000</td>\n",
       "      <td>44.000000</td>\n",
       "      <td>44.900002</td>\n",
       "      <td>44.900002</td>\n",
       "      <td>117701670.0</td>\n",
       "    </tr>\n",
       "    <tr>\n",
       "      <th>1</th>\n",
       "      <td>2018-01-02</td>\n",
       "      <td>45.930000</td>\n",
       "      <td>46.939999</td>\n",
       "      <td>40.685001</td>\n",
       "      <td>41.650002</td>\n",
       "      <td>41.650002</td>\n",
       "      <td>27925307.0</td>\n",
       "    </tr>\n",
       "    <tr>\n",
       "      <th>2</th>\n",
       "      <td>2018-01-03</td>\n",
       "      <td>40.500000</td>\n",
       "      <td>43.000000</td>\n",
       "      <td>39.400002</td>\n",
       "      <td>42.900002</td>\n",
       "      <td>42.900002</td>\n",
       "      <td>16113941.0</td>\n",
       "    </tr>\n",
       "    <tr>\n",
       "      <th>3</th>\n",
       "      <td>2018-01-04</td>\n",
       "      <td>43.660000</td>\n",
       "      <td>43.779999</td>\n",
       "      <td>41.830002</td>\n",
       "      <td>41.900002</td>\n",
       "      <td>41.900002</td>\n",
       "      <td>6316755.0</td>\n",
       "    </tr>\n",
       "    <tr>\n",
       "      <th>4</th>\n",
       "      <td>2018-01-05</td>\n",
       "      <td>41.029999</td>\n",
       "      <td>42.869999</td>\n",
       "      <td>40.759998</td>\n",
       "      <td>42.599998</td>\n",
       "      <td>42.599998</td>\n",
       "      <td>8688325.0</td>\n",
       "    </tr>\n",
       "  </tbody>\n",
       "</table>\n",
       "</div>"
      ],
      "text/plain": [
       "        Date       Open       High        Low      Close  Adj Close  \\\n",
       "0 2018-01-01  45.099998  50.090000  44.000000  44.900002  44.900002   \n",
       "1 2018-01-02  45.930000  46.939999  40.685001  41.650002  41.650002   \n",
       "2 2018-01-03  40.500000  43.000000  39.400002  42.900002  42.900002   \n",
       "3 2018-01-04  43.660000  43.779999  41.830002  41.900002  41.900002   \n",
       "4 2018-01-05  41.029999  42.869999  40.759998  42.599998  42.599998   \n",
       "\n",
       "        Volume  \n",
       "0  117701670.0  \n",
       "1   27925307.0  \n",
       "2   16113941.0  \n",
       "3    6316755.0  \n",
       "4    8688325.0  "
      ]
     },
     "execution_count": 25,
     "metadata": {},
     "output_type": "execute_result"
    }
   ],
   "source": [
    "df = pd.read_excel('TWTR.xlsx')\n",
    "df.head()"
   ]
  },
  {
   "cell_type": "code",
   "execution_count": 26,
   "id": "42b234fe",
   "metadata": {},
   "outputs": [
    {
     "data": {
      "text/plain": [
       "(2264, 7)"
      ]
     },
     "execution_count": 26,
     "metadata": {},
     "output_type": "execute_result"
    }
   ],
   "source": [
    "df.shape"
   ]
  },
  {
   "cell_type": "code",
   "execution_count": 27,
   "id": "9e54e67e",
   "metadata": {},
   "outputs": [
    {
     "name": "stdout",
     "output_type": "stream",
     "text": [
      "<class 'pandas.core.frame.DataFrame'>\n",
      "RangeIndex: 2264 entries, 0 to 2263\n",
      "Data columns (total 7 columns):\n",
      " #   Column     Non-Null Count  Dtype         \n",
      "---  ------     --------------  -----         \n",
      " 0   Date       2264 non-null   datetime64[ns]\n",
      " 1   Open       2259 non-null   float64       \n",
      " 2   High       2259 non-null   float64       \n",
      " 3   Low        2259 non-null   float64       \n",
      " 4   Close      2259 non-null   float64       \n",
      " 5   Adj Close  2259 non-null   float64       \n",
      " 6   Volume     2259 non-null   float64       \n",
      "dtypes: datetime64[ns](1), float64(6)\n",
      "memory usage: 123.9 KB\n"
     ]
    }
   ],
   "source": [
    "df.info()"
   ]
  },
  {
   "cell_type": "code",
   "execution_count": 28,
   "id": "e24be2bd",
   "metadata": {},
   "outputs": [
    {
     "data": {
      "text/plain": [
       "Index(['Date', 'Open', 'High', 'Low', 'Close', 'Adj Close', 'Volume'], dtype='object')"
      ]
     },
     "execution_count": 28,
     "metadata": {},
     "output_type": "execute_result"
    }
   ],
   "source": [
    "df.columns"
   ]
  },
  {
   "cell_type": "code",
   "execution_count": 29,
   "id": "61a5257c",
   "metadata": {},
   "outputs": [
    {
     "data": {
      "text/html": [
       "<div>\n",
       "<style scoped>\n",
       "    .dataframe tbody tr th:only-of-type {\n",
       "        vertical-align: middle;\n",
       "    }\n",
       "\n",
       "    .dataframe tbody tr th {\n",
       "        vertical-align: top;\n",
       "    }\n",
       "\n",
       "    .dataframe thead th {\n",
       "        text-align: right;\n",
       "    }\n",
       "</style>\n",
       "<table border=\"1\" class=\"dataframe\">\n",
       "  <thead>\n",
       "    <tr style=\"text-align: right;\">\n",
       "      <th></th>\n",
       "      <th>Date</th>\n",
       "      <th>Open</th>\n",
       "      <th>High</th>\n",
       "      <th>Low</th>\n",
       "      <th>Close</th>\n",
       "      <th>Adj Close</th>\n",
       "      <th>Volume</th>\n",
       "    </tr>\n",
       "  </thead>\n",
       "  <tbody>\n",
       "    <tr>\n",
       "      <th>count</th>\n",
       "      <td>2264</td>\n",
       "      <td>2259.000000</td>\n",
       "      <td>2259.000000</td>\n",
       "      <td>2259.000000</td>\n",
       "      <td>2259.000000</td>\n",
       "      <td>2259.000000</td>\n",
       "      <td>2.259000e+03</td>\n",
       "    </tr>\n",
       "    <tr>\n",
       "      <th>mean</th>\n",
       "      <td>2021-02-05 12:00:00</td>\n",
       "      <td>36.020286</td>\n",
       "      <td>36.699881</td>\n",
       "      <td>35.339465</td>\n",
       "      <td>36.003625</td>\n",
       "      <td>36.003625</td>\n",
       "      <td>2.175186e+07</td>\n",
       "    </tr>\n",
       "    <tr>\n",
       "      <th>min</th>\n",
       "      <td>2018-01-01 00:00:00</td>\n",
       "      <td>13.950000</td>\n",
       "      <td>14.220000</td>\n",
       "      <td>13.725000</td>\n",
       "      <td>14.010000</td>\n",
       "      <td>14.010000</td>\n",
       "      <td>0.000000e+00</td>\n",
       "    </tr>\n",
       "    <tr>\n",
       "      <th>25%</th>\n",
       "      <td>2019-07-20 18:00:00</td>\n",
       "      <td>25.550000</td>\n",
       "      <td>26.215001</td>\n",
       "      <td>24.912501</td>\n",
       "      <td>25.410000</td>\n",
       "      <td>25.410000</td>\n",
       "      <td>1.233530e+07</td>\n",
       "    </tr>\n",
       "    <tr>\n",
       "      <th>50%</th>\n",
       "      <td>2021-02-05 12:00:00</td>\n",
       "      <td>35.419998</td>\n",
       "      <td>36.099998</td>\n",
       "      <td>34.820000</td>\n",
       "      <td>35.490002</td>\n",
       "      <td>35.490002</td>\n",
       "      <td>1.691305e+07</td>\n",
       "    </tr>\n",
       "    <tr>\n",
       "      <th>75%</th>\n",
       "      <td>2022-08-25 06:00:00</td>\n",
       "      <td>44.205000</td>\n",
       "      <td>45.015000</td>\n",
       "      <td>43.327501</td>\n",
       "      <td>44.135000</td>\n",
       "      <td>44.135000</td>\n",
       "      <td>2.428082e+07</td>\n",
       "    </tr>\n",
       "    <tr>\n",
       "      <th>max</th>\n",
       "      <td>2024-03-13 00:00:00</td>\n",
       "      <td>78.360001</td>\n",
       "      <td>80.750000</td>\n",
       "      <td>76.050003</td>\n",
       "      <td>77.629997</td>\n",
       "      <td>77.629997</td>\n",
       "      <td>2.692131e+08</td>\n",
       "    </tr>\n",
       "    <tr>\n",
       "      <th>std</th>\n",
       "      <td>NaN</td>\n",
       "      <td>14.118463</td>\n",
       "      <td>14.372057</td>\n",
       "      <td>13.828724</td>\n",
       "      <td>14.089989</td>\n",
       "      <td>14.089989</td>\n",
       "      <td>1.909988e+07</td>\n",
       "    </tr>\n",
       "  </tbody>\n",
       "</table>\n",
       "</div>"
      ],
      "text/plain": [
       "                      Date         Open         High          Low  \\\n",
       "count                 2264  2259.000000  2259.000000  2259.000000   \n",
       "mean   2021-02-05 12:00:00    36.020286    36.699881    35.339465   \n",
       "min    2018-01-01 00:00:00    13.950000    14.220000    13.725000   \n",
       "25%    2019-07-20 18:00:00    25.550000    26.215001    24.912501   \n",
       "50%    2021-02-05 12:00:00    35.419998    36.099998    34.820000   \n",
       "75%    2022-08-25 06:00:00    44.205000    45.015000    43.327501   \n",
       "max    2024-03-13 00:00:00    78.360001    80.750000    76.050003   \n",
       "std                    NaN    14.118463    14.372057    13.828724   \n",
       "\n",
       "             Close    Adj Close        Volume  \n",
       "count  2259.000000  2259.000000  2.259000e+03  \n",
       "mean     36.003625    36.003625  2.175186e+07  \n",
       "min      14.010000    14.010000  0.000000e+00  \n",
       "25%      25.410000    25.410000  1.233530e+07  \n",
       "50%      35.490002    35.490002  1.691305e+07  \n",
       "75%      44.135000    44.135000  2.428082e+07  \n",
       "max      77.629997    77.629997  2.692131e+08  \n",
       "std      14.089989    14.089989  1.909988e+07  "
      ]
     },
     "execution_count": 29,
     "metadata": {},
     "output_type": "execute_result"
    }
   ],
   "source": [
    "df.describe()"
   ]
  },
  {
   "cell_type": "code",
   "execution_count": 30,
   "id": "5d99315f",
   "metadata": {},
   "outputs": [
    {
     "data": {
      "text/plain": [
       "Date         0\n",
       "Open         5\n",
       "High         5\n",
       "Low          5\n",
       "Close        5\n",
       "Adj Close    5\n",
       "Volume       5\n",
       "dtype: int64"
      ]
     },
     "execution_count": 30,
     "metadata": {},
     "output_type": "execute_result"
    }
   ],
   "source": [
    "df.isnull().sum()"
   ]
  },
  {
   "cell_type": "code",
   "execution_count": 31,
   "id": "585b8a78",
   "metadata": {},
   "outputs": [
    {
     "data": {
      "text/plain": [
       "(2259, 7)"
      ]
     },
     "execution_count": 31,
     "metadata": {},
     "output_type": "execute_result"
    }
   ],
   "source": [
    "df_removeNull = df.dropna()\n",
    "df_removeNull.shape"
   ]
  },
  {
   "cell_type": "code",
   "execution_count": 32,
   "id": "e94baffa",
   "metadata": {},
   "outputs": [],
   "source": [
    "#replacing null values with mode and mean\n",
    "\n",
    "for i in df.columns:\n",
    "    if df[i].dtype == 'object':\n",
    "        modal_value = df[i].mode()[0]\n",
    "        df[i] = df[i].fillna(modal_value)\n",
    "\n",
    "    else:\n",
    "        mean_value = df[i].mean()\n",
    "        df[i] = df[i].fillna(mean_value) "
   ]
  },
  {
   "cell_type": "code",
   "execution_count": 33,
   "id": "ad77da57",
   "metadata": {},
   "outputs": [
    {
     "data": {
      "text/plain": [
       "Date         0\n",
       "Open         0\n",
       "High         0\n",
       "Low          0\n",
       "Close        0\n",
       "Adj Close    0\n",
       "Volume       0\n",
       "dtype: int64"
      ]
     },
     "execution_count": 33,
     "metadata": {},
     "output_type": "execute_result"
    }
   ],
   "source": [
    "#after removing null values\n",
    "df.isnull().sum()\n",
    "\n",
    "#All nulls and missing values have been handled."
   ]
  },
  {
   "cell_type": "code",
   "execution_count": 34,
   "id": "8586dd2e",
   "metadata": {},
   "outputs": [
    {
     "data": {
      "text/html": [
       "<div>\n",
       "<style scoped>\n",
       "    .dataframe tbody tr th:only-of-type {\n",
       "        vertical-align: middle;\n",
       "    }\n",
       "\n",
       "    .dataframe tbody tr th {\n",
       "        vertical-align: top;\n",
       "    }\n",
       "\n",
       "    .dataframe thead th {\n",
       "        text-align: right;\n",
       "    }\n",
       "</style>\n",
       "<table border=\"1\" class=\"dataframe\">\n",
       "  <thead>\n",
       "    <tr style=\"text-align: right;\">\n",
       "      <th></th>\n",
       "      <th>Date</th>\n",
       "      <th>Open</th>\n",
       "      <th>High</th>\n",
       "      <th>Low</th>\n",
       "      <th>Close</th>\n",
       "      <th>Adj Close</th>\n",
       "      <th>Volume</th>\n",
       "    </tr>\n",
       "  </thead>\n",
       "  <tbody>\n",
       "    <tr>\n",
       "      <th>0</th>\n",
       "      <td>2018-01-01</td>\n",
       "      <td>45.099998</td>\n",
       "      <td>50.090000</td>\n",
       "      <td>44.000000</td>\n",
       "      <td>44.900002</td>\n",
       "      <td>44.900002</td>\n",
       "      <td>117701670.0</td>\n",
       "    </tr>\n",
       "    <tr>\n",
       "      <th>1</th>\n",
       "      <td>2018-01-02</td>\n",
       "      <td>45.930000</td>\n",
       "      <td>46.939999</td>\n",
       "      <td>40.685001</td>\n",
       "      <td>41.650002</td>\n",
       "      <td>41.650002</td>\n",
       "      <td>27925307.0</td>\n",
       "    </tr>\n",
       "    <tr>\n",
       "      <th>2</th>\n",
       "      <td>2018-01-03</td>\n",
       "      <td>40.500000</td>\n",
       "      <td>43.000000</td>\n",
       "      <td>39.400002</td>\n",
       "      <td>42.900002</td>\n",
       "      <td>42.900002</td>\n",
       "      <td>16113941.0</td>\n",
       "    </tr>\n",
       "    <tr>\n",
       "      <th>3</th>\n",
       "      <td>2018-01-04</td>\n",
       "      <td>43.660000</td>\n",
       "      <td>43.779999</td>\n",
       "      <td>41.830002</td>\n",
       "      <td>41.900002</td>\n",
       "      <td>41.900002</td>\n",
       "      <td>6316755.0</td>\n",
       "    </tr>\n",
       "    <tr>\n",
       "      <th>4</th>\n",
       "      <td>2018-01-05</td>\n",
       "      <td>41.029999</td>\n",
       "      <td>42.869999</td>\n",
       "      <td>40.759998</td>\n",
       "      <td>42.599998</td>\n",
       "      <td>42.599998</td>\n",
       "      <td>8688325.0</td>\n",
       "    </tr>\n",
       "    <tr>\n",
       "      <th>...</th>\n",
       "      <td>...</td>\n",
       "      <td>...</td>\n",
       "      <td>...</td>\n",
       "      <td>...</td>\n",
       "      <td>...</td>\n",
       "      <td>...</td>\n",
       "      <td>...</td>\n",
       "    </tr>\n",
       "    <tr>\n",
       "      <th>95</th>\n",
       "      <td>2018-04-06</td>\n",
       "      <td>45.090000</td>\n",
       "      <td>46.400002</td>\n",
       "      <td>43.310001</td>\n",
       "      <td>46.320000</td>\n",
       "      <td>46.320000</td>\n",
       "      <td>15507597.0</td>\n",
       "    </tr>\n",
       "    <tr>\n",
       "      <th>96</th>\n",
       "      <td>2018-04-07</td>\n",
       "      <td>46.650002</td>\n",
       "      <td>47.340000</td>\n",
       "      <td>45.700001</td>\n",
       "      <td>47.299999</td>\n",
       "      <td>47.299999</td>\n",
       "      <td>9610491.0</td>\n",
       "    </tr>\n",
       "    <tr>\n",
       "      <th>97</th>\n",
       "      <td>2018-04-08</td>\n",
       "      <td>47.549999</td>\n",
       "      <td>47.750000</td>\n",
       "      <td>46.430000</td>\n",
       "      <td>46.669998</td>\n",
       "      <td>46.669998</td>\n",
       "      <td>5794497.0</td>\n",
       "    </tr>\n",
       "    <tr>\n",
       "      <th>98</th>\n",
       "      <td>2018-04-09</td>\n",
       "      <td>46.709999</td>\n",
       "      <td>47.590000</td>\n",
       "      <td>46.180000</td>\n",
       "      <td>46.980000</td>\n",
       "      <td>46.980000</td>\n",
       "      <td>6916147.0</td>\n",
       "    </tr>\n",
       "    <tr>\n",
       "      <th>99</th>\n",
       "      <td>2018-04-10</td>\n",
       "      <td>47.400002</td>\n",
       "      <td>47.439999</td>\n",
       "      <td>45.509998</td>\n",
       "      <td>45.730000</td>\n",
       "      <td>45.730000</td>\n",
       "      <td>7911260.0</td>\n",
       "    </tr>\n",
       "  </tbody>\n",
       "</table>\n",
       "<p>100 rows × 7 columns</p>\n",
       "</div>"
      ],
      "text/plain": [
       "         Date       Open       High        Low      Close  Adj Close  \\\n",
       "0  2018-01-01  45.099998  50.090000  44.000000  44.900002  44.900002   \n",
       "1  2018-01-02  45.930000  46.939999  40.685001  41.650002  41.650002   \n",
       "2  2018-01-03  40.500000  43.000000  39.400002  42.900002  42.900002   \n",
       "3  2018-01-04  43.660000  43.779999  41.830002  41.900002  41.900002   \n",
       "4  2018-01-05  41.029999  42.869999  40.759998  42.599998  42.599998   \n",
       "..        ...        ...        ...        ...        ...        ...   \n",
       "95 2018-04-06  45.090000  46.400002  43.310001  46.320000  46.320000   \n",
       "96 2018-04-07  46.650002  47.340000  45.700001  47.299999  47.299999   \n",
       "97 2018-04-08  47.549999  47.750000  46.430000  46.669998  46.669998   \n",
       "98 2018-04-09  46.709999  47.590000  46.180000  46.980000  46.980000   \n",
       "99 2018-04-10  47.400002  47.439999  45.509998  45.730000  45.730000   \n",
       "\n",
       "         Volume  \n",
       "0   117701670.0  \n",
       "1    27925307.0  \n",
       "2    16113941.0  \n",
       "3     6316755.0  \n",
       "4     8688325.0  \n",
       "..          ...  \n",
       "95   15507597.0  \n",
       "96    9610491.0  \n",
       "97    5794497.0  \n",
       "98    6916147.0  \n",
       "99    7911260.0  \n",
       "\n",
       "[100 rows x 7 columns]"
      ]
     },
     "execution_count": 34,
     "metadata": {},
     "output_type": "execute_result"
    }
   ],
   "source": [
    "df.head(100)"
   ]
  },
  {
   "cell_type": "code",
   "execution_count": 35,
   "id": "4e654658",
   "metadata": {},
   "outputs": [
    {
     "name": "stdout",
     "output_type": "stream",
     "text": [
      "<class 'pandas.core.frame.DataFrame'>\n",
      "RangeIndex: 2264 entries, 0 to 2263\n",
      "Data columns (total 7 columns):\n",
      " #   Column     Non-Null Count  Dtype         \n",
      "---  ------     --------------  -----         \n",
      " 0   Date       2264 non-null   datetime64[ns]\n",
      " 1   Open       2264 non-null   float64       \n",
      " 2   High       2264 non-null   float64       \n",
      " 3   Low        2264 non-null   float64       \n",
      " 4   Close      2264 non-null   float64       \n",
      " 5   Adj Close  2264 non-null   float64       \n",
      " 6   Volume     2264 non-null   float64       \n",
      "dtypes: datetime64[ns](1), float64(6)\n",
      "memory usage: 123.9 KB\n"
     ]
    }
   ],
   "source": [
    "df.info()"
   ]
  },
  {
   "cell_type": "code",
   "execution_count": 36,
   "id": "f1fdf556",
   "metadata": {},
   "outputs": [
    {
     "data": {
      "text/html": [
       "<div>\n",
       "<style scoped>\n",
       "    .dataframe tbody tr th:only-of-type {\n",
       "        vertical-align: middle;\n",
       "    }\n",
       "\n",
       "    .dataframe tbody tr th {\n",
       "        vertical-align: top;\n",
       "    }\n",
       "\n",
       "    .dataframe thead th {\n",
       "        text-align: right;\n",
       "    }\n",
       "</style>\n",
       "<table border=\"1\" class=\"dataframe\">\n",
       "  <thead>\n",
       "    <tr style=\"text-align: right;\">\n",
       "      <th></th>\n",
       "      <th>Date</th>\n",
       "      <th>Open</th>\n",
       "      <th>High</th>\n",
       "      <th>Low</th>\n",
       "      <th>Close</th>\n",
       "      <th>Adj Close</th>\n",
       "      <th>Volume</th>\n",
       "    </tr>\n",
       "  </thead>\n",
       "  <tbody>\n",
       "    <tr>\n",
       "      <th>count</th>\n",
       "      <td>2264</td>\n",
       "      <td>2264.000000</td>\n",
       "      <td>2264.000000</td>\n",
       "      <td>2264.000000</td>\n",
       "      <td>2264.000000</td>\n",
       "      <td>2264.000000</td>\n",
       "      <td>2.264000e+03</td>\n",
       "    </tr>\n",
       "    <tr>\n",
       "      <th>mean</th>\n",
       "      <td>2021-02-05 12:00:00</td>\n",
       "      <td>36.020286</td>\n",
       "      <td>36.699881</td>\n",
       "      <td>35.339465</td>\n",
       "      <td>36.003625</td>\n",
       "      <td>36.003625</td>\n",
       "      <td>2.175186e+07</td>\n",
       "    </tr>\n",
       "    <tr>\n",
       "      <th>min</th>\n",
       "      <td>2018-01-01 00:00:00</td>\n",
       "      <td>13.950000</td>\n",
       "      <td>14.220000</td>\n",
       "      <td>13.725000</td>\n",
       "      <td>14.010000</td>\n",
       "      <td>14.010000</td>\n",
       "      <td>0.000000e+00</td>\n",
       "    </tr>\n",
       "    <tr>\n",
       "      <th>25%</th>\n",
       "      <td>2019-07-20 18:00:00</td>\n",
       "      <td>25.575000</td>\n",
       "      <td>26.245000</td>\n",
       "      <td>24.926250</td>\n",
       "      <td>25.492500</td>\n",
       "      <td>25.492500</td>\n",
       "      <td>1.235467e+07</td>\n",
       "    </tr>\n",
       "    <tr>\n",
       "      <th>50%</th>\n",
       "      <td>2021-02-05 12:00:00</td>\n",
       "      <td>35.449999</td>\n",
       "      <td>36.133801</td>\n",
       "      <td>34.849998</td>\n",
       "      <td>35.530000</td>\n",
       "      <td>35.530000</td>\n",
       "      <td>1.697204e+07</td>\n",
       "    </tr>\n",
       "    <tr>\n",
       "      <th>75%</th>\n",
       "      <td>2022-08-25 06:00:00</td>\n",
       "      <td>44.200001</td>\n",
       "      <td>45.000000</td>\n",
       "      <td>43.313751</td>\n",
       "      <td>44.085000</td>\n",
       "      <td>44.085000</td>\n",
       "      <td>2.424488e+07</td>\n",
       "    </tr>\n",
       "    <tr>\n",
       "      <th>max</th>\n",
       "      <td>2024-03-13 00:00:00</td>\n",
       "      <td>78.360001</td>\n",
       "      <td>80.750000</td>\n",
       "      <td>76.050003</td>\n",
       "      <td>77.629997</td>\n",
       "      <td>77.629997</td>\n",
       "      <td>2.692131e+08</td>\n",
       "    </tr>\n",
       "    <tr>\n",
       "      <th>std</th>\n",
       "      <td>NaN</td>\n",
       "      <td>14.102857</td>\n",
       "      <td>14.356171</td>\n",
       "      <td>13.813438</td>\n",
       "      <td>14.074415</td>\n",
       "      <td>14.074415</td>\n",
       "      <td>1.907877e+07</td>\n",
       "    </tr>\n",
       "  </tbody>\n",
       "</table>\n",
       "</div>"
      ],
      "text/plain": [
       "                      Date         Open         High          Low  \\\n",
       "count                 2264  2264.000000  2264.000000  2264.000000   \n",
       "mean   2021-02-05 12:00:00    36.020286    36.699881    35.339465   \n",
       "min    2018-01-01 00:00:00    13.950000    14.220000    13.725000   \n",
       "25%    2019-07-20 18:00:00    25.575000    26.245000    24.926250   \n",
       "50%    2021-02-05 12:00:00    35.449999    36.133801    34.849998   \n",
       "75%    2022-08-25 06:00:00    44.200001    45.000000    43.313751   \n",
       "max    2024-03-13 00:00:00    78.360001    80.750000    76.050003   \n",
       "std                    NaN    14.102857    14.356171    13.813438   \n",
       "\n",
       "             Close    Adj Close        Volume  \n",
       "count  2264.000000  2264.000000  2.264000e+03  \n",
       "mean     36.003625    36.003625  2.175186e+07  \n",
       "min      14.010000    14.010000  0.000000e+00  \n",
       "25%      25.492500    25.492500  1.235467e+07  \n",
       "50%      35.530000    35.530000  1.697204e+07  \n",
       "75%      44.085000    44.085000  2.424488e+07  \n",
       "max      77.629997    77.629997  2.692131e+08  \n",
       "std      14.074415    14.074415  1.907877e+07  "
      ]
     },
     "execution_count": 36,
     "metadata": {},
     "output_type": "execute_result"
    }
   ],
   "source": [
    "df.describe()"
   ]
  },
  {
   "cell_type": "code",
   "execution_count": 37,
   "id": "7da61084",
   "metadata": {},
   "outputs": [],
   "source": [
    "import statistics\n",
    "from scipy import stats\n"
   ]
  },
  {
   "cell_type": "code",
   "execution_count": 38,
   "id": "0114a882",
   "metadata": {},
   "outputs": [
    {
     "name": "stdout",
     "output_type": "stream",
     "text": [
      "High vs Low: t-stat = 3.2491031475314323 , p-value = 0.0011661543315521926\n",
      "High vs Close: t-stat = 1.6478380770928303 , p-value = 0.0994553156763571\n",
      "Low vs Close: t-stat = -1.602478762188645 , p-value = 0.10911956197449083\n"
     ]
    }
   ],
   "source": [
    "t_stat_high_low, p_val_high_low = stats.ttest_ind(df['High'], df['Low'])\n",
    "t_stat_high_close, p_val_high_close = stats.ttest_ind(df['High'], df['Close'])\n",
    "t_stat_low_close, p_val_low_close = stats.ttest_ind(df['Low'], df['Close'])\n",
    "\n",
    "print(\"High vs Low: t-stat =\", t_stat_high_low, \", p-value =\", p_val_high_low)\n",
    "print(\"High vs Close: t-stat =\", t_stat_high_close, \", p-value =\", p_val_high_close)\n",
    "print(\"Low vs Close: t-stat =\", t_stat_low_close, \", p-value =\", p_val_low_close)\n"
   ]
  },
  {
   "cell_type": "code",
   "execution_count": 39,
   "id": "c1c2abe4",
   "metadata": {},
   "outputs": [
    {
     "name": "stdout",
     "output_type": "stream",
     "text": [
      "Z-test (High vs Low): z = 3.249820943441555 , p-value = 0.001154776924967793\n"
     ]
    }
   ],
   "source": [
    "import numpy as np\n",
    "\n",
    "def z_test(x1, x2):\n",
    "    mean_diff = np.mean(x1) - np.mean(x2)\n",
    "    std_diff = np.sqrt(np.var(x1)/len(x1) + np.var(x2)/len(x2))\n",
    "    z = mean_diff / std_diff\n",
    "    p = 2 * (1 - stats.norm.cdf(abs(z)))\n",
    "    return z, p\n",
    "\n",
    "z_high_low, p_high_low = z_test(df['High'], df['Low'])\n",
    "print(\"Z-test (High vs Low): z =\", z_high_low, \", p-value =\", p_high_low)\n"
   ]
  },
  {
   "cell_type": "markdown",
   "id": "27c4a7ca",
   "metadata": {},
   "source": [
    " Write the insights which you have got from the \n",
    "above tests:"
   ]
  },
  {
   "cell_type": "markdown",
   "id": "c466b4b9",
   "metadata": {},
   "source": [
    "High vs Low:\n",
    "The p-value was less than 0.05, so we reject the null hypothesis.\n",
    "➤ This means there is a significant difference between the average High and Low prices, \n",
    "which is expected since High usually represents the daily upper bound and Low the lower bound.\n",
    "\n",
    "High vs Close:\n",
    "The p-value was greater than 0.05, so we accept the null hypothesis.\n",
    "➤ This indicates that the Close prices are not significantly different from High prices on average \n",
    "showing that the market often closes near the day’s high.\n",
    "\n",
    "Low vs Close:\n",
    "The p-value was less than 0.05, so we reject the null hypothesis.\n",
    "➤ It suggests that Close prices are significantly higher than Low prices, which means the market generally recovers from \n",
    "intraday lows before closing."
   ]
  },
  {
   "cell_type": "markdown",
   "id": "cfea1dd4",
   "metadata": {},
   "source": [
    " ## Visualization and Analysis "
   ]
  },
  {
   "cell_type": "markdown",
   "id": "09f9d67b",
   "metadata": {},
   "source": [
    "Show the Twitter stock prices over the years and \n",
    "give a conclusion:"
   ]
  },
  {
   "cell_type": "code",
   "execution_count": 40,
   "id": "ab6cefc4",
   "metadata": {},
   "outputs": [
    {
     "data": {
      "image/png": "[encoded data removed]",
      "text/plain": [
       "<Figure size 1500x500 with 1 Axes>"
      ]
     },
     "metadata": {},
     "output_type": "display_data"
    }
   ],
   "source": [
    "plt.figure(figsize=(15,5))\n",
    "plt.plot(df['Date'], df['Open'],label='Open Price', color='blue')\n",
    "plt.xlabel('Date')\n",
    "plt.ylabel('Price')\n",
    "plt.title('Twitter stock price over years')\n",
    "plt.show()"
   ]
  },
  {
   "cell_type": "markdown",
   "id": "84bc5fb4",
   "metadata": {},
   "source": [
    "This graphs shows the stock price across the years In 2018, share price is reached ATH but after that we can see large dip for 2 years. multiple news formed across this time regarding selling  twitter, dynamic changes in twitter managements and workspace.\n",
    "After 2021, when twitter changed to X, things get backs to normal. Different kind of subscriptions changes leads to profit of twitter and and price came back to ATH"
   ]
  },
  {
   "cell_type": "markdown",
   "id": "8d64edd0",
   "metadata": {},
   "source": [
    " Compare the Close vs Date column for Twitter prices over the years: "
   ]
  },
  {
   "cell_type": "code",
   "execution_count": 41,
   "id": "3059bf49",
   "metadata": {},
   "outputs": [
    {
     "data": {
      "image/png": "[encoded data removed]",
      "text/plain": [
       "<Figure size 1500x500 with 1 Axes>"
      ]
     },
     "metadata": {},
     "output_type": "display_data"
    }
   ],
   "source": [
    "plt.figure(figsize=(15,5))\n",
    "plt.plot(df['Date'], df['Close'],label='Open Price', color='green', linewidth=1)\n",
    "plt.xlabel('Date')\n",
    "plt.ylabel('Close Price')\n",
    "plt.title('Twitter stock close price over years')\n",
    "plt.show()"
   ]
  },
  {
   "cell_type": "markdown",
   "id": "6fd02c93",
   "metadata": {},
   "source": [
    "Assign buttons to control time periods. Add the buttons to analyze the stock prices of Twitter in different time periods: 1 month, 6 months, YTD, 1 year, 5 years, and max."
   ]
  },
  {
   "cell_type": "code",
   "execution_count": 42,
   "id": "099c1d95",
   "metadata": {},
   "outputs": [
    {
     "data": {
      "application/vnd.jupyter.widget-view+json": {
       "model_id": "c3d5743dc7ff477bb46a2dc15c183adf",
       "version_major": 2,
       "version_minor": 0
      },
      "text/plain": [
       "interactive(children=(DatePicker(value=Timestamp('2018-01-01 00:00:00'), description='Start Date', step=1), Da…"
      ]
     },
     "metadata": {},
     "output_type": "display_data"
    }
   ],
   "source": [
    "import ipywidgets as widgets\n",
    "from ipywidgets import interactive\n",
    "import pandas as pd\n",
    "import matplotlib.pyplot as plt\n",
    "import datetime\n",
    "\n",
    "# --- Data Preparation (No Changes Needed Here) ---\n",
    "# Ensure 'Date' is a datetime object and set as index\n",
    "if not isinstance(df.index, pd.DatetimeIndex):\n",
    "    # This line was missing in your original snippet but is important\n",
    "    df['Date'] = pd.to_datetime(df['Date']) \n",
    "    df.set_index('Date', inplace=True)\n",
    "\n",
    "# --- Modified Plotting Function ---\n",
    "# It's better practice to accept start_date and end_date as separate arguments\n",
    "def plot_stock_range(start_date, end_date):\n",
    "    # Ensure the selected range is valid\n",
    "   \n",
    "    \n",
    "    mask = (df.index >= start_date) & (df.index <= end_date)\n",
    "    dat = df.loc[mask]\n",
    "    \n",
    "    plt.figure(figsize=(15, 6))\n",
    "    plt.plot(dat['Close'], label=\"Twitter Close Price\", linewidth=2, color='blue')\n",
    "    plt.title(f'Twitter Stock Price from {start_date.date()} to {end_date.date()}')\n",
    "    plt.xlabel('Date')\n",
    "    plt.ylabel('Price (USD)')\n",
    "    plt.legend()\n",
    "    plt.grid(True)\n",
    "    plt.ylim(df['Close'].min(), df['Close'].max()) # Keep y-axis consistent\n",
    "    plt.show()\n",
    "\n",
    "# --- EFFICIENT WIDGET CREATION ---\n",
    "# Use DatePicker widgets instead of a slider with thousands of options\n",
    "start_date_picker = widgets.DatePicker(\n",
    "    description='Start Date',\n",
    "    value=df.index.min(), # Set default to the earliest date\n",
    "    disabled=False\n",
    ")\n",
    "\n",
    "end_date_picker = widgets.DatePicker(\n",
    "    description='End Date',\n",
    "    value=df.index.max(), # Set default to the latest date\n",
    "    disabled=False\n",
    ")\n",
    "\n",
    "# --- Link the function to the new widgets ---\n",
    "# The interactive function automatically passes the widget values to the function arguments\n",
    "interactive_plot = interactive(\n",
    "    plot_stock_range, \n",
    "    start_date=start_date_picker, \n",
    "    end_date=end_date_picker\n",
    ")\n",
    "\n",
    "# Display the controls and the plot\n",
    "display(interactive_plot)"
   ]
  },
  {
   "cell_type": "markdown",
   "id": "b489259f",
   "metadata": {},
   "source": [
    "Give the complete timeline of Twitter in the stock market (Line Graph):"
   ]
  },
  {
   "cell_type": "code",
   "execution_count": 48,
   "id": "daed03cb",
   "metadata": {},
   "outputs": [
    {
     "ename": "KeyError",
     "evalue": "'Date'",
     "output_type": "error",
     "traceback": [
      "\u001b[31m---------------------------------------------------------------------------\u001b[39m",
      "\u001b[31mKeyError\u001b[39m                                  Traceback (most recent call last)",
      "\u001b[36mFile \u001b[39m\u001b[32mc:\\Users\\Admin\\AppData\\Local\\Programs\\Python\\Python313\\Lib\\site-packages\\pandas\\core\\indexes\\base.py:3812\u001b[39m, in \u001b[36mIndex.get_loc\u001b[39m\u001b[34m(self, key)\u001b[39m\n\u001b[32m   3811\u001b[39m \u001b[38;5;28;01mtry\u001b[39;00m:\n\u001b[32m-> \u001b[39m\u001b[32m3812\u001b[39m     \u001b[38;5;28;01mreturn\u001b[39;00m \u001b[38;5;28;43mself\u001b[39;49m\u001b[43m.\u001b[49m\u001b[43m_engine\u001b[49m\u001b[43m.\u001b[49m\u001b[43mget_loc\u001b[49m\u001b[43m(\u001b[49m\u001b[43mcasted_key\u001b[49m\u001b[43m)\u001b[49m\n\u001b[32m   3813\u001b[39m \u001b[38;5;28;01mexcept\u001b[39;00m \u001b[38;5;167;01mKeyError\u001b[39;00m \u001b[38;5;28;01mas\u001b[39;00m err:\n",
      "\u001b[36mFile \u001b[39m\u001b[32mpandas/_libs/index.pyx:167\u001b[39m, in \u001b[36mpandas._libs.index.IndexEngine.get_loc\u001b[39m\u001b[34m()\u001b[39m\n",
      "\u001b[36mFile \u001b[39m\u001b[32mpandas/_libs/index.pyx:196\u001b[39m, in \u001b[36mpandas._libs.index.IndexEngine.get_loc\u001b[39m\u001b[34m()\u001b[39m\n",
      "\u001b[36mFile \u001b[39m\u001b[32mpandas/_libs/hashtable_class_helper.pxi:7088\u001b[39m, in \u001b[36mpandas._libs.hashtable.PyObjectHashTable.get_item\u001b[39m\u001b[34m()\u001b[39m\n",
      "\u001b[36mFile \u001b[39m\u001b[32mpandas/_libs/hashtable_class_helper.pxi:7096\u001b[39m, in \u001b[36mpandas._libs.hashtable.PyObjectHashTable.get_item\u001b[39m\u001b[34m()\u001b[39m\n",
      "\u001b[31mKeyError\u001b[39m: 'Date'",
      "\nThe above exception was the direct cause of the following exception:\n",
      "\u001b[31mKeyError\u001b[39m                                  Traceback (most recent call last)",
      "\u001b[36mCell\u001b[39m\u001b[36m \u001b[39m\u001b[32mIn[48]\u001b[39m\u001b[32m, line 2\u001b[39m\n\u001b[32m      1\u001b[39m plt.figure(figsize=(\u001b[32m15\u001b[39m,\u001b[32m5\u001b[39m))\n\u001b[32m----> \u001b[39m\u001b[32m2\u001b[39m plt.plot(\u001b[43mdf\u001b[49m\u001b[43m[\u001b[49m\u001b[33;43m'\u001b[39;49m\u001b[33;43mDate\u001b[39;49m\u001b[33;43m'\u001b[39;49m\u001b[43m]\u001b[49m, df[\u001b[33m'\u001b[39m\u001b[33mClose\u001b[39m\u001b[33m'\u001b[39m],label=\u001b[33m'\u001b[39m\u001b[33mOpen Price\u001b[39m\u001b[33m'\u001b[39m, color=\u001b[33m'\u001b[39m\u001b[33mgreen\u001b[39m\u001b[33m'\u001b[39m, linewidth=\u001b[32m1\u001b[39m)\n\u001b[32m      3\u001b[39m plt.xlabel(\u001b[33m'\u001b[39m\u001b[33mDate\u001b[39m\u001b[33m'\u001b[39m)\n\u001b[32m      4\u001b[39m plt.ylabel(\u001b[33m'\u001b[39m\u001b[33mClose Price\u001b[39m\u001b[33m'\u001b[39m)\n",
      "\u001b[36mFile \u001b[39m\u001b[32mc:\\Users\\Admin\\AppData\\Local\\Programs\\Python\\Python313\\Lib\\site-packages\\pandas\\core\\frame.py:4107\u001b[39m, in \u001b[36mDataFrame.__getitem__\u001b[39m\u001b[34m(self, key)\u001b[39m\n\u001b[32m   4105\u001b[39m \u001b[38;5;28;01mif\u001b[39;00m \u001b[38;5;28mself\u001b[39m.columns.nlevels > \u001b[32m1\u001b[39m:\n\u001b[32m   4106\u001b[39m     \u001b[38;5;28;01mreturn\u001b[39;00m \u001b[38;5;28mself\u001b[39m._getitem_multilevel(key)\n\u001b[32m-> \u001b[39m\u001b[32m4107\u001b[39m indexer = \u001b[38;5;28;43mself\u001b[39;49m\u001b[43m.\u001b[49m\u001b[43mcolumns\u001b[49m\u001b[43m.\u001b[49m\u001b[43mget_loc\u001b[49m\u001b[43m(\u001b[49m\u001b[43mkey\u001b[49m\u001b[43m)\u001b[49m\n\u001b[32m   4108\u001b[39m \u001b[38;5;28;01mif\u001b[39;00m is_integer(indexer):\n\u001b[32m   4109\u001b[39m     indexer = [indexer]\n",
      "\u001b[36mFile \u001b[39m\u001b[32mc:\\Users\\Admin\\AppData\\Local\\Programs\\Python\\Python313\\Lib\\site-packages\\pandas\\core\\indexes\\base.py:3819\u001b[39m, in \u001b[36mIndex.get_loc\u001b[39m\u001b[34m(self, key)\u001b[39m\n\u001b[32m   3814\u001b[39m     \u001b[38;5;28;01mif\u001b[39;00m \u001b[38;5;28misinstance\u001b[39m(casted_key, \u001b[38;5;28mslice\u001b[39m) \u001b[38;5;129;01mor\u001b[39;00m (\n\u001b[32m   3815\u001b[39m         \u001b[38;5;28misinstance\u001b[39m(casted_key, abc.Iterable)\n\u001b[32m   3816\u001b[39m         \u001b[38;5;129;01mand\u001b[39;00m \u001b[38;5;28many\u001b[39m(\u001b[38;5;28misinstance\u001b[39m(x, \u001b[38;5;28mslice\u001b[39m) \u001b[38;5;28;01mfor\u001b[39;00m x \u001b[38;5;129;01min\u001b[39;00m casted_key)\n\u001b[32m   3817\u001b[39m     ):\n\u001b[32m   3818\u001b[39m         \u001b[38;5;28;01mraise\u001b[39;00m InvalidIndexError(key)\n\u001b[32m-> \u001b[39m\u001b[32m3819\u001b[39m     \u001b[38;5;28;01mraise\u001b[39;00m \u001b[38;5;167;01mKeyError\u001b[39;00m(key) \u001b[38;5;28;01mfrom\u001b[39;00m\u001b[38;5;250m \u001b[39m\u001b[34;01merr\u001b[39;00m\n\u001b[32m   3820\u001b[39m \u001b[38;5;28;01mexcept\u001b[39;00m \u001b[38;5;167;01mTypeError\u001b[39;00m:\n\u001b[32m   3821\u001b[39m     \u001b[38;5;66;03m# If we have a listlike key, _check_indexing_error will raise\u001b[39;00m\n\u001b[32m   3822\u001b[39m     \u001b[38;5;66;03m#  InvalidIndexError. Otherwise we fall through and re-raise\u001b[39;00m\n\u001b[32m   3823\u001b[39m     \u001b[38;5;66;03m#  the TypeError.\u001b[39;00m\n\u001b[32m   3824\u001b[39m     \u001b[38;5;28mself\u001b[39m._check_indexing_error(key)\n",
      "\u001b[31mKeyError\u001b[39m: 'Date'"
     ]
    },
    {
     "data": {
      "text/plain": [
       "<Figure size 1500x500 with 0 Axes>"
      ]
     },
     "metadata": {},
     "output_type": "display_data"
    }
   ],
   "source": [
    "plt.figure(figsize=(15,5))\n",
    "plt.plot(df['Date'], df['Close'],label='Open Price', color='green', linewidth=1)\n",
    "plt.xlabel('Date')\n",
    "plt.ylabel('Close Price')\n",
    "plt.title('Twitter stock close price over years')\n",
    "plt.show()"
   ]
  },
  {
   "cell_type": "code",
   "execution_count": null,
   "id": "70f884f0",
   "metadata": {},
   "outputs": [],
   "source": []
  }
 ],
 "metadata": {
  "kernelspec": {
   "display_name": "Python 3",
   "language": "python",
   "name": "python3"
  },
  "language_info": {
   "codemirror_mode": {
    "name": "ipython",
    "version": 3
   },
   "file_extension": ".py",
   "mimetype": "text/x-python",
   "name": "python",
   "nbconvert_exporter": "python",
   "pygments_lexer": "ipython3",
   "version": "3.13.7"
  }
 },
 "nbformat": 4,
 "nbformat_minor": 5
}
