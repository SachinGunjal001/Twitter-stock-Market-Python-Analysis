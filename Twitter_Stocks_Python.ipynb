{
 "cells": [
  {
   "cell_type": "markdown",
   "id": "c20a5ff2",
   "metadata": {},
   "source": [
    "This is the analysis for twitter stock price analysis for past years."
   ]
  },
  {
   "cell_type": "code",
   "execution_count": 1,
   "id": "11b02811",
   "metadata": {},
   "outputs": [],
   "source": [
    "import pandas as pd\n",
    "import numpy as np\n",
    "import matplotlib.pyplot as plt\n",
    "import seaborn as sns"
   ]
  },
  {
   "cell_type": "code",
   "execution_count": 2,
   "id": "5d86de19",
   "metadata": {},
   "outputs": [
    {
     "data": {
      "text/html": [
       "<div>\n",
       "<style scoped>\n",
       "    .dataframe tbody tr th:only-of-type {\n",
       "        vertical-align: middle;\n",
       "    }\n",
       "\n",
       "    .dataframe tbody tr th {\n",
       "        vertical-align: top;\n",
       "    }\n",
       "\n",
       "    .dataframe thead th {\n",
       "        text-align: right;\n",
       "    }\n",
       "</style>\n",
       "<table border=\"1\" class=\"dataframe\">\n",
       "  <thead>\n",
       "    <tr style=\"text-align: right;\">\n",
       "      <th></th>\n",
       "      <th>Date</th>\n",
       "      <th>Open</th>\n",
       "      <th>High</th>\n",
       "      <th>Low</th>\n",
       "      <th>Close</th>\n",
       "      <th>Adj Close</th>\n",
       "      <th>Volume</th>\n",
       "    </tr>\n",
       "  </thead>\n",
       "  <tbody>\n",
       "    <tr>\n",
       "      <th>0</th>\n",
       "      <td>2018-01-01</td>\n",
       "      <td>45.099998</td>\n",
       "      <td>50.090000</td>\n",
       "      <td>44.000000</td>\n",
       "      <td>44.900002</td>\n",
       "      <td>44.900002</td>\n",
       "      <td>117701670.0</td>\n",
       "    </tr>\n",
       "    <tr>\n",
       "      <th>1</th>\n",
       "      <td>2018-01-02</td>\n",
       "      <td>45.930000</td>\n",
       "      <td>46.939999</td>\n",
       "      <td>40.685001</td>\n",
       "      <td>41.650002</td>\n",
       "      <td>41.650002</td>\n",
       "      <td>27925307.0</td>\n",
       "    </tr>\n",
       "    <tr>\n",
       "      <th>2</th>\n",
       "      <td>2018-01-03</td>\n",
       "      <td>40.500000</td>\n",
       "      <td>43.000000</td>\n",
       "      <td>39.400002</td>\n",
       "      <td>42.900002</td>\n",
       "      <td>42.900002</td>\n",
       "      <td>16113941.0</td>\n",
       "    </tr>\n",
       "    <tr>\n",
       "      <th>3</th>\n",
       "      <td>2018-01-04</td>\n",
       "      <td>43.660000</td>\n",
       "      <td>43.779999</td>\n",
       "      <td>41.830002</td>\n",
       "      <td>41.900002</td>\n",
       "      <td>41.900002</td>\n",
       "      <td>6316755.0</td>\n",
       "    </tr>\n",
       "    <tr>\n",
       "      <th>4</th>\n",
       "      <td>2018-01-05</td>\n",
       "      <td>41.029999</td>\n",
       "      <td>42.869999</td>\n",
       "      <td>40.759998</td>\n",
       "      <td>42.599998</td>\n",
       "      <td>42.599998</td>\n",
       "      <td>8688325.0</td>\n",
       "    </tr>\n",
       "  </tbody>\n",
       "</table>\n",
       "</div>"
      ],
      "text/plain": [
       "        Date       Open       High        Low      Close  Adj Close  \\\n",
       "0 2018-01-01  45.099998  50.090000  44.000000  44.900002  44.900002   \n",
       "1 2018-01-02  45.930000  46.939999  40.685001  41.650002  41.650002   \n",
       "2 2018-01-03  40.500000  43.000000  39.400002  42.900002  42.900002   \n",
       "3 2018-01-04  43.660000  43.779999  41.830002  41.900002  41.900002   \n",
       "4 2018-01-05  41.029999  42.869999  40.759998  42.599998  42.599998   \n",
       "\n",
       "        Volume  \n",
       "0  117701670.0  \n",
       "1   27925307.0  \n",
       "2   16113941.0  \n",
       "3    6316755.0  \n",
       "4    8688325.0  "
      ]
     },
     "execution_count": 2,
     "metadata": {},
     "output_type": "execute_result"
    }
   ],
   "source": [
    "df = pd.read_excel('TWTR.xlsx')\n",
    "df.head()"
   ]
  },
  {
   "cell_type": "code",
   "execution_count": 3,
   "id": "42b234fe",
   "metadata": {},
   "outputs": [
    {
     "data": {
      "text/plain": [
       "(2264, 7)"
      ]
     },
     "execution_count": 3,
     "metadata": {},
     "output_type": "execute_result"
    }
   ],
   "source": [
    "df.shape"
   ]
  },
  {
   "cell_type": "code",
   "execution_count": 4,
   "id": "9e54e67e",
   "metadata": {},
   "outputs": [
    {
     "name": "stdout",
     "output_type": "stream",
     "text": [
      "<class 'pandas.core.frame.DataFrame'>\n",
      "RangeIndex: 2264 entries, 0 to 2263\n",
      "Data columns (total 7 columns):\n",
      " #   Column     Non-Null Count  Dtype         \n",
      "---  ------     --------------  -----         \n",
      " 0   Date       2264 non-null   datetime64[ns]\n",
      " 1   Open       2259 non-null   float64       \n",
      " 2   High       2259 non-null   float64       \n",
      " 3   Low        2259 non-null   float64       \n",
      " 4   Close      2259 non-null   float64       \n",
      " 5   Adj Close  2259 non-null   float64       \n",
      " 6   Volume     2259 non-null   float64       \n",
      "dtypes: datetime64[ns](1), float64(6)\n",
      "memory usage: 123.9 KB\n"
     ]
    }
   ],
   "source": [
    "df.info()"
   ]
  },
  {
   "cell_type": "code",
   "execution_count": 5,
   "id": "e24be2bd",
   "metadata": {},
   "outputs": [
    {
     "data": {
      "text/plain": [
       "Index(['Date', 'Open', 'High', 'Low', 'Close', 'Adj Close', 'Volume'], dtype='object')"
      ]
     },
     "execution_count": 5,
     "metadata": {},
     "output_type": "execute_result"
    }
   ],
   "source": [
    "df.columns"
   ]
  },
  {
   "cell_type": "code",
   "execution_count": 6,
   "id": "61a5257c",
   "metadata": {},
   "outputs": [
    {
     "data": {
      "text/html": [
       "<div>\n",
       "<style scoped>\n",
       "    .dataframe tbody tr th:only-of-type {\n",
       "        vertical-align: middle;\n",
       "    }\n",
       "\n",
       "    .dataframe tbody tr th {\n",
       "        vertical-align: top;\n",
       "    }\n",
       "\n",
       "    .dataframe thead th {\n",
       "        text-align: right;\n",
       "    }\n",
       "</style>\n",
       "<table border=\"1\" class=\"dataframe\">\n",
       "  <thead>\n",
       "    <tr style=\"text-align: right;\">\n",
       "      <th></th>\n",
       "      <th>Date</th>\n",
       "      <th>Open</th>\n",
       "      <th>High</th>\n",
       "      <th>Low</th>\n",
       "      <th>Close</th>\n",
       "      <th>Adj Close</th>\n",
       "      <th>Volume</th>\n",
       "    </tr>\n",
       "  </thead>\n",
       "  <tbody>\n",
       "    <tr>\n",
       "      <th>count</th>\n",
       "      <td>2264</td>\n",
       "      <td>2259.000000</td>\n",
       "      <td>2259.000000</td>\n",
       "      <td>2259.000000</td>\n",
       "      <td>2259.000000</td>\n",
       "      <td>2259.000000</td>\n",
       "      <td>2.259000e+03</td>\n",
       "    </tr>\n",
       "    <tr>\n",
       "      <th>mean</th>\n",
       "      <td>2021-02-05 12:00:00</td>\n",
       "      <td>36.020286</td>\n",
       "      <td>36.699881</td>\n",
       "      <td>35.339465</td>\n",
       "      <td>36.003625</td>\n",
       "      <td>36.003625</td>\n",
       "      <td>2.175186e+07</td>\n",
       "    </tr>\n",
       "    <tr>\n",
       "      <th>min</th>\n",
       "      <td>2018-01-01 00:00:00</td>\n",
       "      <td>13.950000</td>\n",
       "      <td>14.220000</td>\n",
       "      <td>13.725000</td>\n",
       "      <td>14.010000</td>\n",
       "      <td>14.010000</td>\n",
       "      <td>0.000000e+00</td>\n",
       "    </tr>\n",
       "    <tr>\n",
       "      <th>25%</th>\n",
       "      <td>2019-07-20 18:00:00</td>\n",
       "      <td>25.550000</td>\n",
       "      <td>26.215001</td>\n",
       "      <td>24.912501</td>\n",
       "      <td>25.410000</td>\n",
       "      <td>25.410000</td>\n",
       "      <td>1.233530e+07</td>\n",
       "    </tr>\n",
       "    <tr>\n",
       "      <th>50%</th>\n",
       "      <td>2021-02-05 12:00:00</td>\n",
       "      <td>35.419998</td>\n",
       "      <td>36.099998</td>\n",
       "      <td>34.820000</td>\n",
       "      <td>35.490002</td>\n",
       "      <td>35.490002</td>\n",
       "      <td>1.691305e+07</td>\n",
       "    </tr>\n",
       "    <tr>\n",
       "      <th>75%</th>\n",
       "      <td>2022-08-25 06:00:00</td>\n",
       "      <td>44.205000</td>\n",
       "      <td>45.015000</td>\n",
       "      <td>43.327501</td>\n",
       "      <td>44.135000</td>\n",
       "      <td>44.135000</td>\n",
       "      <td>2.428082e+07</td>\n",
       "    </tr>\n",
       "    <tr>\n",
       "      <th>max</th>\n",
       "      <td>2024-03-13 00:00:00</td>\n",
       "      <td>78.360001</td>\n",
       "      <td>80.750000</td>\n",
       "      <td>76.050003</td>\n",
       "      <td>77.629997</td>\n",
       "      <td>77.629997</td>\n",
       "      <td>2.692131e+08</td>\n",
       "    </tr>\n",
       "    <tr>\n",
       "      <th>std</th>\n",
       "      <td>NaN</td>\n",
       "      <td>14.118463</td>\n",
       "      <td>14.372057</td>\n",
       "      <td>13.828724</td>\n",
       "      <td>14.089989</td>\n",
       "      <td>14.089989</td>\n",
       "      <td>1.909988e+07</td>\n",
       "    </tr>\n",
       "  </tbody>\n",
       "</table>\n",
       "</div>"
      ],
      "text/plain": [
       "                      Date         Open         High          Low  \\\n",
       "count                 2264  2259.000000  2259.000000  2259.000000   \n",
       "mean   2021-02-05 12:00:00    36.020286    36.699881    35.339465   \n",
       "min    2018-01-01 00:00:00    13.950000    14.220000    13.725000   \n",
       "25%    2019-07-20 18:00:00    25.550000    26.215001    24.912501   \n",
       "50%    2021-02-05 12:00:00    35.419998    36.099998    34.820000   \n",
       "75%    2022-08-25 06:00:00    44.205000    45.015000    43.327501   \n",
       "max    2024-03-13 00:00:00    78.360001    80.750000    76.050003   \n",
       "std                    NaN    14.118463    14.372057    13.828724   \n",
       "\n",
       "             Close    Adj Close        Volume  \n",
       "count  2259.000000  2259.000000  2.259000e+03  \n",
       "mean     36.003625    36.003625  2.175186e+07  \n",
       "min      14.010000    14.010000  0.000000e+00  \n",
       "25%      25.410000    25.410000  1.233530e+07  \n",
       "50%      35.490002    35.490002  1.691305e+07  \n",
       "75%      44.135000    44.135000  2.428082e+07  \n",
       "max      77.629997    77.629997  2.692131e+08  \n",
       "std      14.089989    14.089989  1.909988e+07  "
      ]
     },
     "execution_count": 6,
     "metadata": {},
     "output_type": "execute_result"
    }
   ],
   "source": [
    "df.describe()"
   ]
  },
  {
   "cell_type": "code",
   "execution_count": 7,
   "id": "5d99315f",
   "metadata": {},
   "outputs": [
    {
     "data": {
      "text/plain": [
       "Date         0\n",
       "Open         5\n",
       "High         5\n",
       "Low          5\n",
       "Close        5\n",
       "Adj Close    5\n",
       "Volume       5\n",
       "dtype: int64"
      ]
     },
     "execution_count": 7,
     "metadata": {},
     "output_type": "execute_result"
    }
   ],
   "source": [
    "df.isnull().sum()"
   ]
  },
  {
   "cell_type": "code",
   "execution_count": 8,
   "id": "585b8a78",
   "metadata": {},
   "outputs": [
    {
     "data": {
      "text/plain": [
       "(2259, 7)"
      ]
     },
     "execution_count": 8,
     "metadata": {},
     "output_type": "execute_result"
    }
   ],
   "source": [
    "df_removeNull = df.dropna()\n",
    "df_removeNull.shape"
   ]
  },
  {
   "cell_type": "code",
   "execution_count": 9,
   "id": "e94baffa",
   "metadata": {},
   "outputs": [],
   "source": [
    "#replacing null values with mode and mean\n",
    "\n",
    "for i in df.columns:\n",
    "    if df[i].dtype == 'object':\n",
    "        modal_value = df[i].mode()[0]\n",
    "        df[i] = df[i].fillna(modal_value)\n",
    "\n",
    "    else:\n",
    "        mean_value = df[i].mean()\n",
    "        df[i] = df[i].fillna(mean_value) "
   ]
  },
  {
   "cell_type": "code",
   "execution_count": 10,
   "id": "ad77da57",
   "metadata": {},
   "outputs": [
    {
     "data": {
      "text/plain": [
       "Date         0\n",
       "Open         0\n",
       "High         0\n",
       "Low          0\n",
       "Close        0\n",
       "Adj Close    0\n",
       "Volume       0\n",
       "dtype: int64"
      ]
     },
     "execution_count": 10,
     "metadata": {},
     "output_type": "execute_result"
    }
   ],
   "source": [
    "#after removing null values\n",
    "df.isnull().sum()\n",
    "\n",
    "#All nulls and missing values have been handled."
   ]
  },
  {
   "cell_type": "code",
   "execution_count": 11,
   "id": "8586dd2e",
   "metadata": {},
   "outputs": [
    {
     "data": {
      "text/html": [
       "<div>\n",
       "<style scoped>\n",
       "    .dataframe tbody tr th:only-of-type {\n",
       "        vertical-align: middle;\n",
       "    }\n",
       "\n",
       "    .dataframe tbody tr th {\n",
       "        vertical-align: top;\n",
       "    }\n",
       "\n",
       "    .dataframe thead th {\n",
       "        text-align: right;\n",
       "    }\n",
       "</style>\n",
       "<table border=\"1\" class=\"dataframe\">\n",
       "  <thead>\n",
       "    <tr style=\"text-align: right;\">\n",
       "      <th></th>\n",
       "      <th>Date</th>\n",
       "      <th>Open</th>\n",
       "      <th>High</th>\n",
       "      <th>Low</th>\n",
       "      <th>Close</th>\n",
       "      <th>Adj Close</th>\n",
       "      <th>Volume</th>\n",
       "    </tr>\n",
       "  </thead>\n",
       "  <tbody>\n",
       "    <tr>\n",
       "      <th>0</th>\n",
       "      <td>2018-01-01</td>\n",
       "      <td>45.099998</td>\n",
       "      <td>50.090000</td>\n",
       "      <td>44.000000</td>\n",
       "      <td>44.900002</td>\n",
       "      <td>44.900002</td>\n",
       "      <td>117701670.0</td>\n",
       "    </tr>\n",
       "    <tr>\n",
       "      <th>1</th>\n",
       "      <td>2018-01-02</td>\n",
       "      <td>45.930000</td>\n",
       "      <td>46.939999</td>\n",
       "      <td>40.685001</td>\n",
       "      <td>41.650002</td>\n",
       "      <td>41.650002</td>\n",
       "      <td>27925307.0</td>\n",
       "    </tr>\n",
       "    <tr>\n",
       "      <th>2</th>\n",
       "      <td>2018-01-03</td>\n",
       "      <td>40.500000</td>\n",
       "      <td>43.000000</td>\n",
       "      <td>39.400002</td>\n",
       "      <td>42.900002</td>\n",
       "      <td>42.900002</td>\n",
       "      <td>16113941.0</td>\n",
       "    </tr>\n",
       "    <tr>\n",
       "      <th>3</th>\n",
       "      <td>2018-01-04</td>\n",
       "      <td>43.660000</td>\n",
       "      <td>43.779999</td>\n",
       "      <td>41.830002</td>\n",
       "      <td>41.900002</td>\n",
       "      <td>41.900002</td>\n",
       "      <td>6316755.0</td>\n",
       "    </tr>\n",
       "    <tr>\n",
       "      <th>4</th>\n",
       "      <td>2018-01-05</td>\n",
       "      <td>41.029999</td>\n",
       "      <td>42.869999</td>\n",
       "      <td>40.759998</td>\n",
       "      <td>42.599998</td>\n",
       "      <td>42.599998</td>\n",
       "      <td>8688325.0</td>\n",
       "    </tr>\n",
       "    <tr>\n",
       "      <th>...</th>\n",
       "      <td>...</td>\n",
       "      <td>...</td>\n",
       "      <td>...</td>\n",
       "      <td>...</td>\n",
       "      <td>...</td>\n",
       "      <td>...</td>\n",
       "      <td>...</td>\n",
       "    </tr>\n",
       "    <tr>\n",
       "      <th>95</th>\n",
       "      <td>2018-04-06</td>\n",
       "      <td>45.090000</td>\n",
       "      <td>46.400002</td>\n",
       "      <td>43.310001</td>\n",
       "      <td>46.320000</td>\n",
       "      <td>46.320000</td>\n",
       "      <td>15507597.0</td>\n",
       "    </tr>\n",
       "    <tr>\n",
       "      <th>96</th>\n",
       "      <td>2018-04-07</td>\n",
       "      <td>46.650002</td>\n",
       "      <td>47.340000</td>\n",
       "      <td>45.700001</td>\n",
       "      <td>47.299999</td>\n",
       "      <td>47.299999</td>\n",
       "      <td>9610491.0</td>\n",
       "    </tr>\n",
       "    <tr>\n",
       "      <th>97</th>\n",
       "      <td>2018-04-08</td>\n",
       "      <td>47.549999</td>\n",
       "      <td>47.750000</td>\n",
       "      <td>46.430000</td>\n",
       "      <td>46.669998</td>\n",
       "      <td>46.669998</td>\n",
       "      <td>5794497.0</td>\n",
       "    </tr>\n",
       "    <tr>\n",
       "      <th>98</th>\n",
       "      <td>2018-04-09</td>\n",
       "      <td>46.709999</td>\n",
       "      <td>47.590000</td>\n",
       "      <td>46.180000</td>\n",
       "      <td>46.980000</td>\n",
       "      <td>46.980000</td>\n",
       "      <td>6916147.0</td>\n",
       "    </tr>\n",
       "    <tr>\n",
       "      <th>99</th>\n",
       "      <td>2018-04-10</td>\n",
       "      <td>47.400002</td>\n",
       "      <td>47.439999</td>\n",
       "      <td>45.509998</td>\n",
       "      <td>45.730000</td>\n",
       "      <td>45.730000</td>\n",
       "      <td>7911260.0</td>\n",
       "    </tr>\n",
       "  </tbody>\n",
       "</table>\n",
       "<p>100 rows × 7 columns</p>\n",
       "</div>"
      ],
      "text/plain": [
       "         Date       Open       High        Low      Close  Adj Close  \\\n",
       "0  2018-01-01  45.099998  50.090000  44.000000  44.900002  44.900002   \n",
       "1  2018-01-02  45.930000  46.939999  40.685001  41.650002  41.650002   \n",
       "2  2018-01-03  40.500000  43.000000  39.400002  42.900002  42.900002   \n",
       "3  2018-01-04  43.660000  43.779999  41.830002  41.900002  41.900002   \n",
       "4  2018-01-05  41.029999  42.869999  40.759998  42.599998  42.599998   \n",
       "..        ...        ...        ...        ...        ...        ...   \n",
       "95 2018-04-06  45.090000  46.400002  43.310001  46.320000  46.320000   \n",
       "96 2018-04-07  46.650002  47.340000  45.700001  47.299999  47.299999   \n",
       "97 2018-04-08  47.549999  47.750000  46.430000  46.669998  46.669998   \n",
       "98 2018-04-09  46.709999  47.590000  46.180000  46.980000  46.980000   \n",
       "99 2018-04-10  47.400002  47.439999  45.509998  45.730000  45.730000   \n",
       "\n",
       "         Volume  \n",
       "0   117701670.0  \n",
       "1    27925307.0  \n",
       "2    16113941.0  \n",
       "3     6316755.0  \n",
       "4     8688325.0  \n",
       "..          ...  \n",
       "95   15507597.0  \n",
       "96    9610491.0  \n",
       "97    5794497.0  \n",
       "98    6916147.0  \n",
       "99    7911260.0  \n",
       "\n",
       "[100 rows x 7 columns]"
      ]
     },
     "execution_count": 11,
     "metadata": {},
     "output_type": "execute_result"
    }
   ],
   "source": [
    "df.head(100)"
   ]
  },
  {
   "cell_type": "code",
   "execution_count": 12,
   "id": "4e654658",
   "metadata": {},
   "outputs": [
    {
     "name": "stdout",
     "output_type": "stream",
     "text": [
      "<class 'pandas.core.frame.DataFrame'>\n",
      "RangeIndex: 2264 entries, 0 to 2263\n",
      "Data columns (total 7 columns):\n",
      " #   Column     Non-Null Count  Dtype         \n",
      "---  ------     --------------  -----         \n",
      " 0   Date       2264 non-null   datetime64[ns]\n",
      " 1   Open       2264 non-null   float64       \n",
      " 2   High       2264 non-null   float64       \n",
      " 3   Low        2264 non-null   float64       \n",
      " 4   Close      2264 non-null   float64       \n",
      " 5   Adj Close  2264 non-null   float64       \n",
      " 6   Volume     2264 non-null   float64       \n",
      "dtypes: datetime64[ns](1), float64(6)\n",
      "memory usage: 123.9 KB\n"
     ]
    }
   ],
   "source": [
    "df.info()"
   ]
  },
  {
   "cell_type": "code",
   "execution_count": 13,
   "id": "f1fdf556",
   "metadata": {},
   "outputs": [
    {
     "data": {
      "text/html": [
       "<div>\n",
       "<style scoped>\n",
       "    .dataframe tbody tr th:only-of-type {\n",
       "        vertical-align: middle;\n",
       "    }\n",
       "\n",
       "    .dataframe tbody tr th {\n",
       "        vertical-align: top;\n",
       "    }\n",
       "\n",
       "    .dataframe thead th {\n",
       "        text-align: right;\n",
       "    }\n",
       "</style>\n",
       "<table border=\"1\" class=\"dataframe\">\n",
       "  <thead>\n",
       "    <tr style=\"text-align: right;\">\n",
       "      <th></th>\n",
       "      <th>Date</th>\n",
       "      <th>Open</th>\n",
       "      <th>High</th>\n",
       "      <th>Low</th>\n",
       "      <th>Close</th>\n",
       "      <th>Adj Close</th>\n",
       "      <th>Volume</th>\n",
       "    </tr>\n",
       "  </thead>\n",
       "  <tbody>\n",
       "    <tr>\n",
       "      <th>count</th>\n",
       "      <td>2264</td>\n",
       "      <td>2264.000000</td>\n",
       "      <td>2264.000000</td>\n",
       "      <td>2264.000000</td>\n",
       "      <td>2264.000000</td>\n",
       "      <td>2264.000000</td>\n",
       "      <td>2.264000e+03</td>\n",
       "    </tr>\n",
       "    <tr>\n",
       "      <th>mean</th>\n",
       "      <td>2021-02-05 12:00:00</td>\n",
       "      <td>36.020286</td>\n",
       "      <td>36.699881</td>\n",
       "      <td>35.339465</td>\n",
       "      <td>36.003625</td>\n",
       "      <td>36.003625</td>\n",
       "      <td>2.175186e+07</td>\n",
       "    </tr>\n",
       "    <tr>\n",
       "      <th>min</th>\n",
       "      <td>2018-01-01 00:00:00</td>\n",
       "      <td>13.950000</td>\n",
       "      <td>14.220000</td>\n",
       "      <td>13.725000</td>\n",
       "      <td>14.010000</td>\n",
       "      <td>14.010000</td>\n",
       "      <td>0.000000e+00</td>\n",
       "    </tr>\n",
       "    <tr>\n",
       "      <th>25%</th>\n",
       "      <td>2019-07-20 18:00:00</td>\n",
       "      <td>25.575000</td>\n",
       "      <td>26.245000</td>\n",
       "      <td>24.926250</td>\n",
       "      <td>25.492500</td>\n",
       "      <td>25.492500</td>\n",
       "      <td>1.235467e+07</td>\n",
       "    </tr>\n",
       "    <tr>\n",
       "      <th>50%</th>\n",
       "      <td>2021-02-05 12:00:00</td>\n",
       "      <td>35.449999</td>\n",
       "      <td>36.133801</td>\n",
       "      <td>34.849998</td>\n",
       "      <td>35.530000</td>\n",
       "      <td>35.530000</td>\n",
       "      <td>1.697204e+07</td>\n",
       "    </tr>\n",
       "    <tr>\n",
       "      <th>75%</th>\n",
       "      <td>2022-08-25 06:00:00</td>\n",
       "      <td>44.200001</td>\n",
       "      <td>45.000000</td>\n",
       "      <td>43.313751</td>\n",
       "      <td>44.085000</td>\n",
       "      <td>44.085000</td>\n",
       "      <td>2.424488e+07</td>\n",
       "    </tr>\n",
       "    <tr>\n",
       "      <th>max</th>\n",
       "      <td>2024-03-13 00:00:00</td>\n",
       "      <td>78.360001</td>\n",
       "      <td>80.750000</td>\n",
       "      <td>76.050003</td>\n",
       "      <td>77.629997</td>\n",
       "      <td>77.629997</td>\n",
       "      <td>2.692131e+08</td>\n",
       "    </tr>\n",
       "    <tr>\n",
       "      <th>std</th>\n",
       "      <td>NaN</td>\n",
       "      <td>14.102857</td>\n",
       "      <td>14.356171</td>\n",
       "      <td>13.813438</td>\n",
       "      <td>14.074415</td>\n",
       "      <td>14.074415</td>\n",
       "      <td>1.907877e+07</td>\n",
       "    </tr>\n",
       "  </tbody>\n",
       "</table>\n",
       "</div>"
      ],
      "text/plain": [
       "                      Date         Open         High          Low  \\\n",
       "count                 2264  2264.000000  2264.000000  2264.000000   \n",
       "mean   2021-02-05 12:00:00    36.020286    36.699881    35.339465   \n",
       "min    2018-01-01 00:00:00    13.950000    14.220000    13.725000   \n",
       "25%    2019-07-20 18:00:00    25.575000    26.245000    24.926250   \n",
       "50%    2021-02-05 12:00:00    35.449999    36.133801    34.849998   \n",
       "75%    2022-08-25 06:00:00    44.200001    45.000000    43.313751   \n",
       "max    2024-03-13 00:00:00    78.360001    80.750000    76.050003   \n",
       "std                    NaN    14.102857    14.356171    13.813438   \n",
       "\n",
       "             Close    Adj Close        Volume  \n",
       "count  2264.000000  2264.000000  2.264000e+03  \n",
       "mean     36.003625    36.003625  2.175186e+07  \n",
       "min      14.010000    14.010000  0.000000e+00  \n",
       "25%      25.492500    25.492500  1.235467e+07  \n",
       "50%      35.530000    35.530000  1.697204e+07  \n",
       "75%      44.085000    44.085000  2.424488e+07  \n",
       "max      77.629997    77.629997  2.692131e+08  \n",
       "std      14.074415    14.074415  1.907877e+07  "
      ]
     },
     "execution_count": 13,
     "metadata": {},
     "output_type": "execute_result"
    }
   ],
   "source": [
    "df.describe()"
   ]
  },
  {
   "cell_type": "code",
   "execution_count": 14,
   "id": "7da61084",
   "metadata": {},
   "outputs": [],
   "source": [
    "import statistics\n",
    "from scipy import stats\n"
   ]
  },
  {
   "cell_type": "code",
   "execution_count": 15,
   "id": "0114a882",
   "metadata": {},
   "outputs": [
    {
     "name": "stdout",
     "output_type": "stream",
     "text": [
      "High vs Low: t-stat = 3.2491031475314323 , p-value = 0.0011661543315521926\n",
      "High vs Close: t-stat = 1.6478380770928303 , p-value = 0.0994553156763571\n",
      "Low vs Close: t-stat = -1.602478762188645 , p-value = 0.10911956197449083\n"
     ]
    }
   ],
   "source": [
    "t_stat_high_low, p_val_high_low = stats.ttest_ind(df['High'], df['Low'])\n",
    "t_stat_high_close, p_val_high_close = stats.ttest_ind(df['High'], df['Close'])\n",
    "t_stat_low_close, p_val_low_close = stats.ttest_ind(df['Low'], df['Close'])\n",
    "\n",
    "print(\"High vs Low: t-stat =\", t_stat_high_low, \", p-value =\", p_val_high_low)\n",
    "print(\"High vs Close: t-stat =\", t_stat_high_close, \", p-value =\", p_val_high_close)\n",
    "print(\"Low vs Close: t-stat =\", t_stat_low_close, \", p-value =\", p_val_low_close)\n"
   ]
  },
  {
   "cell_type": "code",
   "execution_count": 16,
   "id": "c1c2abe4",
   "metadata": {},
   "outputs": [
    {
     "name": "stdout",
     "output_type": "stream",
     "text": [
      "Z-test (High vs Low): z = 3.249820943441555 , p-value = 0.001154776924967793\n"
     ]
    }
   ],
   "source": [
    "import numpy as np\n",
    "\n",
    "def z_test(x1, x2):\n",
    "    mean_diff = np.mean(x1) - np.mean(x2)\n",
    "    std_diff = np.sqrt(np.var(x1)/len(x1) + np.var(x2)/len(x2))\n",
    "    z = mean_diff / std_diff\n",
    "    p = 2 * (1 - stats.norm.cdf(abs(z)))\n",
    "    return z, p\n",
    "\n",
    "z_high_low, p_high_low = z_test(df['High'], df['Low'])\n",
    "print(\"Z-test (High vs Low): z =\", z_high_low, \", p-value =\", p_high_low)\n"
   ]
  },
  {
   "cell_type": "markdown",
   "id": "27c4a7ca",
   "metadata": {},
   "source": [
    " Write the insights which you have got from the \n",
    "above tests:"
   ]
  },
  {
   "cell_type": "markdown",
   "id": "c466b4b9",
   "metadata": {},
   "source": [
    "High vs Low:\n",
    "The p-value was less than 0.05, so we reject the null hypothesis.\n",
    "➤ This means there is a significant difference between the average High and Low prices, \n",
    "which is expected since High usually represents the daily upper bound and Low the lower bound.\n",
    "\n",
    "High vs Close:\n",
    "The p-value was greater than 0.05, so we accept the null hypothesis.\n",
    "➤ This indicates that the Close prices are not significantly different from High prices on average \n",
    "showing that the market often closes near the day’s high.\n",
    "\n",
    "Low vs Close:\n",
    "The p-value was less than 0.05, so we reject the null hypothesis.\n",
    "➤ It suggests that Close prices are significantly higher than Low prices, which means the market generally recovers from \n",
    "intraday lows before closing."
   ]
  },
  {
   "cell_type": "markdown",
   "id": "cfea1dd4",
   "metadata": {},
   "source": [
    " ## Visualization and Analysis "
   ]
  },
  {
   "cell_type": "markdown",
   "id": "09f9d67b",
   "metadata": {},
   "source": [
    "Show the Twitter stock prices over the years and \n",
    "give a conclusion:"
   ]
  },
  {
   "cell_type": "code",
   "execution_count": null,
   "id": "ab6cefc4",
   "metadata": {},
   "outputs": [],
   "source": []
  }
 ],
 "metadata": {
  "kernelspec": {
   "display_name": "Python 3",
   "language": "python",
   "name": "python3"
  },
  "language_info": {
   "codemirror_mode": {
    "name": "ipython",
    "version": 3
   },
   "file_extension": ".py",
   "mimetype": "text/x-python",
   "name": "python",
   "nbconvert_exporter": "python",
   "pygments_lexer": "ipython3",
   "version": "3.13.7"
  }
 },
 "nbformat": 4,
 "nbformat_minor": 5
}
